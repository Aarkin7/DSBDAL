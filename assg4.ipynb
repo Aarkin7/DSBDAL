{
 "cells": [
  {
   "cell_type": "code",
   "execution_count": 2,
   "metadata": {},
   "outputs": [
    {
     "data": {
      "text/plain": [
       "'Create a Linear Regression Model using Python/R to predict home prices using Boston Housing\\nDataset (https://www.kaggle.com/c/boston-housing). The Boston Housing dataset contains\\ninformation about various houses in Boston through different parameters. There are 506 samples\\nand 14 feature variables in this dataset.\\nThe objective is to predict the value of prices of the house using the given features.'"
      ]
     },
     "execution_count": 2,
     "metadata": {},
     "output_type": "execute_result"
    }
   ],
   "source": [
    "'''Create a Linear Regression Model using Python/R to predict home prices using Boston Housing\n",
    "Dataset (https://www.kaggle.com/c/boston-housinghousing). The Boston Housing dataset contains\n",
    "information about various houses in Boston through different parameters. There are 506 samples\n",
    "and 14 feature variables in this dataset.\n",
    "The objective is to predict the value of prices of the house using the given features.'''"
   ]
  },
  {
   "cell_type": "code",
   "execution_count": 6,
   "metadata": {},
   "outputs": [],
   "source": [
    "import pandas as pd\n",
    "import numpy as np\n",
    "from matplotlib import pyplot as plt\n",
    "import seaborn as sns\n",
    "\n",
    "from sklearn.model_selection import train_test_split\n",
    "\n",
    "from sklearn.metrics import mean_squared_error, r2_score"
   ]
  },
  {
   "cell_type": "code",
   "execution_count": 5,
   "metadata": {},
   "outputs": [
    {
     "name": "stdout",
     "output_type": "stream",
     "text": [
      "        RM  LSTAT  PTRATIO      MEDV\n",
      "0    6.575   4.98     15.3  504000.0\n",
      "1    6.421   9.14     17.8  453600.0\n",
      "2    7.185   4.03     17.8  728700.0\n",
      "3    6.998   2.94     18.7  701400.0\n",
      "4    7.147   5.33     18.7  760200.0\n",
      "5    6.430   5.21     18.7  602700.0\n",
      "6    6.012  12.43     15.2  480900.0\n",
      "7    6.172  19.15     15.2  569100.0\n",
      "8    5.631  29.93     15.2  346500.0\n",
      "9    6.004  17.10     15.2  396900.0\n",
      "10   6.377  20.45     15.2  315000.0\n",
      "11   6.009  13.27     15.2  396900.0\n",
      "12   5.889  15.71     15.2  455700.0\n",
      "13   5.949   8.26     21.0  428400.0\n",
      "14   6.096  10.26     21.0  382200.0\n",
      "15   5.834   8.47     21.0  417900.0\n",
      "16   5.935   6.58     21.0  485100.0\n",
      "17   5.990  14.67     21.0  367500.0\n",
      "18   5.456  11.69     21.0  424200.0\n",
      "19   5.727  11.28     21.0  382200.0\n",
      "20   5.570  21.02     21.0  285600.0\n",
      "21   5.965  13.83     21.0  411600.0\n",
      "22   6.142  18.72     21.0  319200.0\n",
      "23   5.813  19.88     21.0  304500.0\n",
      "24   5.924  16.30     21.0  327600.0\n",
      "25   5.599  16.51     21.0  291900.0\n",
      "26   5.813  14.81     21.0  348600.0\n",
      "27   6.047  17.28     21.0  310800.0\n",
      "28   6.495  12.80     21.0  386400.0\n",
      "29   6.674  11.98     21.0  441000.0\n",
      "..     ...    ...      ...       ...\n",
      "459  6.484  18.68     20.2  350700.0\n",
      "460  5.304  24.91     20.2  252000.0\n",
      "461  6.185  18.03     20.2  306600.0\n",
      "462  6.229  13.11     20.2  449400.0\n",
      "463  6.242  10.74     20.2  483000.0\n",
      "464  6.750   7.74     20.2  497700.0\n",
      "465  7.061   7.01     20.2  525000.0\n",
      "466  5.762  10.42     20.2  457800.0\n",
      "467  5.871  13.34     20.2  432600.0\n",
      "468  6.312  10.58     20.2  445200.0\n",
      "469  6.114  14.98     20.2  401100.0\n",
      "470  5.905  11.45     20.2  432600.0\n",
      "471  5.454  18.06     20.1  319200.0\n",
      "472  5.414  23.97     20.1  147000.0\n",
      "473  5.093  29.68     20.1  170100.0\n",
      "474  5.983  18.07     20.1  285600.0\n",
      "475  5.983  13.35     20.1  422100.0\n",
      "476  5.707  12.01     19.2  457800.0\n",
      "477  5.926  13.59     19.2  514500.0\n",
      "478  5.670  17.60     19.2  485100.0\n",
      "479  5.390  21.14     19.2  413700.0\n",
      "480  5.794  14.10     19.2  384300.0\n",
      "481  6.019  12.92     19.2  445200.0\n",
      "482  5.569  15.10     19.2  367500.0\n",
      "483  6.027  14.33     19.2  352800.0\n",
      "484  6.593   9.67     21.0  470400.0\n",
      "485  6.120   9.08     21.0  432600.0\n",
      "486  6.976   5.64     21.0  501900.0\n",
      "487  6.794   6.48     21.0  462000.0\n",
      "488  6.030   7.88     21.0  249900.0\n",
      "\n",
      "[489 rows x 4 columns]\n"
     ]
    }
   ],
   "source": [
    "import pandas as pd\n",
    "\n",
    "df = pd.read_csv('housing.csv')\n",
    "\n",
    "print(df) "
   ]
  },
  {
   "cell_type": "code",
   "execution_count": 29,
   "metadata": {},
   "outputs": [
    {
     "name": "stdout",
     "output_type": "stream",
     "text": [
      "-2.1150363354602986\n"
     ]
    }
   ],
   "source": [
    "print(min(df.MEDV))"
   ]
  },
  {
   "cell_type": "code",
   "execution_count": 7,
   "metadata": {},
   "outputs": [
    {
     "name": "stdout",
     "output_type": "stream",
     "text": [
      "<class 'pandas.core.frame.DataFrame'>\n",
      "RangeIndex: 489 entries, 0 to 488\n",
      "Data columns (total 4 columns):\n",
      "RM         489 non-null float64\n",
      "LSTAT      489 non-null float64\n",
      "PTRATIO    489 non-null float64\n",
      "MEDV       489 non-null float64\n",
      "dtypes: float64(4)\n",
      "memory usage: 15.4 KB\n"
     ]
    }
   ],
   "source": [
    "df.info()\n"
   ]
  },
  {
   "cell_type": "code",
   "execution_count": 8,
   "metadata": {},
   "outputs": [],
   "source": [
    "from sklearn import preprocessing\n",
    "scaler = preprocessing.StandardScaler()\n",
    "df[['RM', 'LSTAT','PTRATIO','MEDV']] = scaler.fit_transform(df[['RM', 'LSTAT','PTRATIO','MEDV']])\n",
    "''' fit_transform() is used on the training data so that we can scale the training data and also \n",
    "learn the scaling parameters of that data. Here, the model built by us will learn the mean and \n",
    "variance of the features of the training set. These learned parameters are then used to scale our test data. '''"
   ]
  },
  {
   "cell_type": "code",
   "execution_count": 28,
   "metadata": {},
   "outputs": [
    {
     "name": "stdout",
     "output_type": "stream",
     "text": [
      "           RM     LSTAT   PTRATIO      MEDV\n",
      "0    0.520554 -1.125077 -1.525083  0.300640\n",
      "1    0.281048 -0.537070 -0.339748 -0.004498\n",
      "2    1.469245 -1.259357 -0.339748  1.661047\n",
      "3    1.178417 -1.413427  0.086973  1.495764\n",
      "4    1.410146 -1.075605  0.086973  1.851759\n",
      "5    0.295045 -1.092567  0.086973  0.898202\n",
      "6   -0.355041 -0.072035 -1.572497  0.160785\n",
      "7   -0.106204  0.877822 -1.572497  0.694777\n",
      "8   -0.947584  2.401552 -1.572497 -0.652916\n",
      "9   -0.367483  0.588059 -1.572497 -0.347778\n",
      "10   0.212618  1.061574 -1.572497 -0.843628\n",
      "11  -0.359707  0.046697 -1.572497 -0.347778\n",
      "12  -0.546335  0.391586 -1.572497  0.008216\n",
      "13  -0.453021 -0.661456  1.177482 -0.157067\n",
      "14  -0.224402 -0.378760  1.177482 -0.436777\n",
      "15  -0.631872 -0.631773  1.177482 -0.220637\n",
      "16  -0.474794 -0.898920  1.177482  0.186213\n",
      "17  -0.389256  0.244584  1.177482 -0.525776\n",
      "18  -1.219750 -0.176633  1.177482 -0.182495\n",
      "19  -0.798282 -0.234585  1.177482 -0.436777\n",
      "20  -1.042453  1.142143  1.177482 -1.021625\n",
      "21  -0.428137  0.125852  1.177482 -0.258780\n",
      "22  -0.152861  0.817043  1.177482 -0.818200\n",
      "23  -0.664532  0.981006  1.177482 -0.907198\n",
      "24  -0.491901  0.474981  1.177482 -0.767343\n",
      "25  -0.997352  0.504664  1.177482 -0.983483\n",
      "26  -0.664532  0.264373  1.177482 -0.640202\n",
      "27  -0.300608  0.613502  1.177482 -0.869056\n",
      "28   0.396135 -0.019737  1.177482 -0.411349\n",
      "29   0.674522 -0.135642  1.177482 -0.080783\n",
      "..        ...       ...       ...       ...\n",
      "459  0.379028  0.811389  0.798174 -0.627488\n",
      "460 -1.456145  1.691986  0.798174 -1.225050\n",
      "461 -0.085986  0.719513  0.798174 -0.894484\n",
      "462 -0.017556  0.024081  0.798174 -0.029926\n",
      "463  0.002662 -0.310913  0.798174  0.173499\n",
      "464  0.792719 -0.734957  0.798174  0.262498\n",
      "465  1.276396 -0.838141  0.798174  0.427781\n",
      "466 -0.743849 -0.356145  0.798174  0.020930\n",
      "467 -0.574329  0.056591  0.798174 -0.131639\n",
      "468  0.111528 -0.333529  0.798174 -0.055354\n",
      "469 -0.196408  0.288402  0.798174 -0.322350\n",
      "470 -0.521451 -0.210556  0.798174 -0.131639\n",
      "471 -1.222860  0.723753  0.750761 -0.818200\n",
      "472 -1.285069  1.559119  0.750761 -1.860755\n",
      "473 -1.784298  2.366215  0.750761 -1.720900\n",
      "474 -0.400143  0.725167  0.750761 -1.021625\n",
      "475 -0.400143  0.058005  0.750761 -0.195209\n",
      "476 -0.829387 -0.131401  0.324040  0.020930\n",
      "477 -0.488791  0.091928  0.324040  0.364210\n",
      "478 -0.886930  0.658733  0.324040  0.186213\n",
      "479 -1.322395  1.159104  0.324040 -0.246066\n",
      "480 -0.694081  0.164016  0.324040 -0.424063\n",
      "481 -0.344154 -0.002775  0.324040 -0.055354\n",
      "482 -1.044008  0.305363  0.324040 -0.525776\n",
      "483 -0.331713  0.196526  0.324040 -0.614774\n",
      "484  0.548548 -0.462155  1.177482  0.097215\n",
      "485 -0.187076 -0.545551  1.177482 -0.131639\n",
      "486  1.144202 -1.031787  1.177482  0.287926\n",
      "487  0.861150 -0.913055  1.177482  0.046358\n",
      "488 -0.327047 -0.715168  1.177482 -1.237764\n",
      "\n",
      "[489 rows x 4 columns]\n"
     ]
    }
   ],
   "source": [
    "print(df)"
   ]
  },
  {
   "cell_type": "code",
   "execution_count": 9,
   "metadata": {},
   "outputs": [],
   "source": [
    "df1 = df[df.MEDV<750000]\n",
    "X = df1.drop(['MEDV'], axis=1)   # took all columns except the last one\n",
    "y = df1.MEDV\n",
    "X_train, X_test, y_train, y_test = train_test_split(X, y, test_size=0.2, random_state=1)"
   ]
  },
  {
   "cell_type": "code",
   "execution_count": 10,
   "metadata": {},
   "outputs": [],
   "source": [
    "from sklearn.linear_model import LinearRegression"
   ]
  },
  {
   "cell_type": "code",
   "execution_count": 27,
   "metadata": {},
   "outputs": [
    {
     "name": "stdout",
     "output_type": "stream",
     "text": [
      "predicted response: [-9.06329799e-01 -3.89181885e-01  6.91896076e-01  1.88419705e+00\n",
      "  1.34247885e-01  6.66880770e-01 -4.37397138e-01  7.50142477e-01\n",
      " -8.31856018e-01  3.46646457e-01  1.37088062e-01  6.50021390e-01\n",
      " -1.62143170e-01  8.24771885e-01 -2.03106200e+00 -5.45020050e-01\n",
      "  4.56309378e-01  1.19399795e-01  1.00475705e+00  7.27745587e-01\n",
      "  5.28367524e-02 -3.57991041e-01 -7.68151336e-01  9.98932583e-01\n",
      "  1.68015130e+00 -3.67460730e-01 -4.67574606e-01 -5.11281436e-01\n",
      " -8.15726297e-01 -1.09841383e-01  1.30588954e+00  1.13863481e+00\n",
      "  1.17614519e+00  9.52029539e-01  7.29814057e-01  7.87140337e-01\n",
      "  6.51888024e-01  7.39622207e-01  1.55274463e+00  2.38855747e-01\n",
      " -2.96773654e-01 -3.78205740e-01 -3.34768273e-01  2.97095757e-01\n",
      " -1.59435884e+00 -1.11756299e-01  4.05444495e-01  4.71545656e-01\n",
      "  6.17561268e-01  5.15549598e-01  1.94951277e-01 -2.95512859e-01\n",
      " -1.78865473e-01  1.04367017e+00 -5.05522721e-01 -1.73162492e-01\n",
      " -3.43025450e-01  4.96123100e-01  1.68532239e+00  7.05287832e-02\n",
      " -6.23776887e-01  9.07645127e-01  1.72967138e+00 -1.86768171e+00\n",
      " -5.83446506e-01 -5.67822701e-01 -4.32968819e-01 -1.22371576e+00\n",
      "  5.57505189e-01  2.31482012e-06  3.55281616e-01 -4.29904529e-01\n",
      " -5.47625838e-01  1.38142391e+00  6.57357955e-01 -2.63743559e-02\n",
      "  1.07449284e+00  3.06913574e-01  3.87576965e-01  2.28243458e-01\n",
      "  4.83144796e-01  4.49451085e-01 -2.92566782e-01 -5.23638051e-01\n",
      " -2.84237690e-01 -1.29224564e-01 -3.68124814e-01  1.40581650e+00\n",
      " -1.11253834e+00  3.70091789e-01 -8.46078029e-01  3.12813043e-01\n",
      "  5.65744196e-01  4.88907100e-01 -5.83973599e-01 -1.63615085e-01\n",
      "  4.47416544e-01 -8.01698528e-01]\n"
     ]
    }
   ],
   "source": [
    "lm = LinearRegression()\n",
    "lm.fit(X_train, y_train)           \n",
    "y_pred = lm.predict(X_test)\n",
    "print('predicted response:', y_pred)"
   ]
  },
  {
   "cell_type": "code",
   "execution_count": 14,
   "metadata": {},
   "outputs": [
    {
     "data": {
      "text/plain": [
       "Text(0.5,1,'Real prices vs predictions')"
      ]
     },
     "execution_count": 14,
     "metadata": {},
     "output_type": "execute_result"
    },
    {
     "data": {
      "image/png": "[encoded data removed]",
      "text/plain": [
       "<Figure size 1440x1440 with 1 Axes>"
      ]
     },
     "metadata": {
      "needs_background": "light"
     },
     "output_type": "display_data"
    }
   ],
   "source": [
    "plt.figure(figsize=(20,20))\n",
    "plt.scatter(y_test, y_pred)\n",
    "plt.plot([y_test.min(),y_test.max()],[y_test.min(),y_test.max()], color='red', linewidth=3)\n",
    "plt.xlabel(\"Price\")\n",
    "plt.ylabel(\"Price prediction\")\n",
    "plt.title(\"Real prices vs predictions\")"
   ]
  },
  {
   "cell_type": "code",
   "execution_count": 15,
   "metadata": {},
   "outputs": [
    {
     "name": "stdout",
     "output_type": "stream",
     "text": [
      "0.5431955502306306\n"
     ]
    }
   ],
   "source": [
    "print(np.sqrt(mean_squared_error(y_test, y_pred)))\n"
   ]
  },
  {
   "cell_type": "code",
   "execution_count": 16,
   "metadata": {},
   "outputs": [
    {
     "name": "stdout",
     "output_type": "stream",
     "text": [
      "0.7042069943455351\n"
     ]
    }
   ],
   "source": [
    "print(lm.score(X_test,y_test))\n"
   ]
  },
  {
   "cell_type": "code",
   "execution_count": 17,
   "metadata": {},
   "outputs": [
    {
     "name": "stdout",
     "output_type": "stream",
     "text": [
      "Accurcy: 0.7042069943455351\n"
     ]
    }
   ],
   "source": [
    "print(\"Accurcy:\", lm.score(X_test, y_test))"
   ]
  },
  {
   "cell_type": "code",
   "execution_count": 22,
   "metadata": {},
   "outputs": [
    {
     "name": "stdout",
     "output_type": "stream",
     "text": [
      "predicted response: [-9.06329799e-01 -3.89181885e-01  6.91896076e-01  1.88419705e+00\n",
      "  1.34247885e-01  6.66880770e-01 -4.37397138e-01  7.50142477e-01\n",
      " -8.31856018e-01  3.46646457e-01  1.37088062e-01  6.50021390e-01\n",
      " -1.62143170e-01  8.24771885e-01 -2.03106200e+00 -5.45020050e-01\n",
      "  4.56309378e-01  1.19399795e-01  1.00475705e+00  7.27745587e-01\n",
      "  5.28367524e-02 -3.57991041e-01 -7.68151336e-01  9.98932583e-01\n",
      "  1.68015130e+00 -3.67460730e-01 -4.67574606e-01 -5.11281436e-01\n",
      " -8.15726297e-01 -1.09841383e-01  1.30588954e+00  1.13863481e+00\n",
      "  1.17614519e+00  9.52029539e-01  7.29814057e-01  7.87140337e-01\n",
      "  6.51888024e-01  7.39622207e-01  1.55274463e+00  2.38855747e-01\n",
      " -2.96773654e-01 -3.78205740e-01 -3.34768273e-01  2.97095757e-01\n",
      " -1.59435884e+00 -1.11756299e-01  4.05444495e-01  4.71545656e-01\n",
      "  6.17561268e-01  5.15549598e-01  1.94951277e-01 -2.95512859e-01\n",
      " -1.78865473e-01  1.04367017e+00 -5.05522721e-01 -1.73162492e-01\n",
      " -3.43025450e-01  4.96123100e-01  1.68532239e+00  7.05287832e-02\n",
      " -6.23776887e-01  9.07645127e-01  1.72967138e+00 -1.86768171e+00\n",
      " -5.83446506e-01 -5.67822701e-01 -4.32968819e-01 -1.22371576e+00\n",
      "  5.57505189e-01  2.31482012e-06  3.55281616e-01 -4.29904529e-01\n",
      " -5.47625838e-01  1.38142391e+00  6.57357955e-01 -2.63743559e-02\n",
      "  1.07449284e+00  3.06913574e-01  3.87576965e-01  2.28243458e-01\n",
      "  4.83144796e-01  4.49451085e-01 -2.92566782e-01 -5.23638051e-01\n",
      " -2.84237690e-01 -1.29224564e-01 -3.68124814e-01  1.40581650e+00\n",
      " -1.11253834e+00  3.70091789e-01 -8.46078029e-01  3.12813043e-01\n",
      "  5.65744196e-01  4.88907100e-01 -5.83973599e-01 -1.63615085e-01\n",
      "  4.47416544e-01 -8.01698528e-01]\n"
     ]
    }
   ],
   "source": [
    "y_pred = lm.predict(X_test)\n",
    "print('predicted response:', y_pred)"
   ]
  },
  {
   "cell_type": "code",
   "execution_count": 23,
   "metadata": {},
   "outputs": [
    {
     "name": "stdout",
     "output_type": "stream",
     "text": [
      "           RM     LSTAT   PTRATIO\n",
      "457 -1.264851  0.735061  0.798174\n",
      "107 -0.176190  0.162602  1.130068\n",
      "165  0.251499 -0.228931 -1.809564\n",
      "197  2.508139 -1.290454 -1.809564\n",
      "446  0.424130 -0.374520  0.798174\n",
      "164  0.122415 -0.260028 -1.809564\n",
      "459  0.379028  0.811389  0.798174\n",
      "173  0.116194 -0.939911 -0.908709\n",
      "34  -0.224402  1.046026  1.177482\n",
      "322  0.117749 -1.026133  0.798174\n",
      "67  -0.563442 -0.684072  0.181800\n",
      "85   0.606092 -0.905988 -0.007854\n",
      "260 -0.597657  0.008533  0.039560\n",
      "230  0.374362 -0.930017 -0.908709\n",
      "370 -1.928935  2.692729  0.798174\n",
      "452 -0.820055  0.257305  0.798174\n",
      "300 -0.183966 -0.983729 -0.055267\n",
      "298 -0.417250 -0.419751 -0.055267\n",
      "159  0.419464 -0.784429 -1.809564\n",
      "213  1.105321 -0.456502 -0.529401\n",
      "334 -0.351931 -0.340596  0.134386\n",
      "31  -0.261727  0.014187  1.177482\n",
      "362 -0.026887  1.249567  0.798174\n",
      "284  0.680743 -0.942738 -1.193189\n",
      "192  1.607660 -0.893266 -2.805245\n",
      "128  0.296601  0.346354  1.272309\n",
      "404 -0.364372  0.390172  0.798174\n",
      "432  0.274827  0.900438  0.798174\n",
      "142 -1.302177  1.961960 -1.809564\n",
      "304 -0.832497 -0.203489 -0.055267\n",
      "..        ...       ...       ...\n",
      "256 -1.058006 -0.351904 -2.615592\n",
      "29   0.674522 -0.135642  1.177482\n",
      "172 -0.342599 -0.399962 -0.908709\n",
      "453 -0.113980  0.473567  0.798174\n",
      "409 -0.627207  0.388759  0.798174\n",
      "330  1.556338 -1.052989 -1.430256\n",
      "246 -0.205739 -0.900334 -1.003536\n",
      "102  0.256165 -0.326462  1.130068\n",
      "287  0.162851 -1.126490 -1.762150\n",
      "358  1.668314  0.070726  0.798174\n",
      "315  0.111528 -0.959700  0.513694\n",
      "208 -0.090652 -0.490425  0.039560\n",
      "90   0.274827 -0.583715 -0.339748\n",
      "303  0.508112 -0.517281 -0.055267\n",
      "434  0.644972  0.677108  0.798174\n",
      "394  0.648083  1.170412  0.798174\n",
      "110 -0.070434  0.008533  1.130068\n",
      "347 -0.176190 -0.206316  0.798174\n",
      "469 -0.196408  0.288402  0.798174\n",
      "250  0.935801 -0.853689 -2.615592\n",
      "420 -0.137309  1.909662  0.798174\n",
      "6   -0.355041 -0.072035 -1.572497\n",
      "412  0.217284  1.574667  0.798174\n",
      "11  -0.359707  0.046697 -1.572497\n",
      "486  1.144202 -1.031787  1.177482\n",
      "92   0.313708 -0.675591 -0.150094\n",
      "385  0.254609  1.041786  0.798174\n",
      "119 -0.792061  0.094755 -0.339748\n",
      "261 -0.000448 -0.897507  0.039560\n",
      "428  0.340147  1.560532  0.798174\n",
      "\n",
      "[98 rows x 3 columns]\n"
     ]
    }
   ],
   "source": [
    "print(X_test)"
   ]
  },
  {
   "cell_type": "code",
   "execution_count": 25,
   "metadata": {},
   "outputs": [
    {
     "name": "stdout",
     "output_type": "stream",
     "text": [
      "457   -0.996197\n",
      "107   -0.157067\n",
      "165    0.084501\n",
      "197    3.415591\n",
      "446   -0.182495\n",
      "164    0.275212\n",
      "459   -0.627488\n",
      "173    0.376925\n",
      "34    -1.034339\n",
      "322    0.071786\n",
      "67     0.046358\n",
      "85     0.631206\n",
      "260   -0.068068\n",
      "230    0.262498\n",
      "370   -1.809898\n",
      "452   -0.195209\n",
      "300    0.059072\n",
      "298   -0.169781\n",
      "159    0.211641\n",
      "213    0.643920\n",
      "334   -0.525776\n",
      "31    -0.907198\n",
      "362   -1.453904\n",
      "284    0.885488\n",
      "192    1.648333\n",
      "128   -0.462205\n",
      "404   -0.945340\n",
      "432   -1.097909\n",
      "142   -1.047053\n",
      "304   -0.691059\n",
      "         ...   \n",
      "256    0.148071\n",
      "29    -0.080783\n",
      "172    0.198927\n",
      "453   -0.220637\n",
      "409   -1.453904\n",
      "330    1.406766\n",
      "246    0.033644\n",
      "102   -0.385921\n",
      "287    0.109929\n",
      "358   -0.843628\n",
      "315    0.173499\n",
      "208    0.427781\n",
      "90     0.122643\n",
      "303    0.275212\n",
      "434   -0.818200\n",
      "394   -0.563918\n",
      "110    0.008216\n",
      "347    0.135357\n",
      "469   -0.322350\n",
      "250    1.076199\n",
      "420   -1.644615\n",
      "6      0.160785\n",
      "412   -1.542902\n",
      "11    -0.347778\n",
      "486    0.287926\n",
      "92     0.160785\n",
      "385   -1.212336\n",
      "119   -0.296922\n",
      "261    0.453209\n",
      "428   -1.250478\n",
      "Name: MEDV, Length: 98, dtype: float64\n"
     ]
    }
   ],
   "source": [
    "print('predicted response:', y_predprint(y_test)"
   ]
  },
  {
   "cell_type": "code",
   "execution_count": null,
   "metadata": {},
   "outputs": [],
   "source": []
  }
 ],
 "metadata": {
  "kernelspec": {
   "display_name": "Python 3",
   "language": "python",
   "name": "python3"
  },
  "language_info": {
   "codemirror_mode": {
    "name": "ipython",
    "version": 3
   },
   "file_extension": ".py",
   "mimetype": "text/x-python",
   "name": "python",
   "nbconvert_exporter": "python",
   "pygments_lexer": "ipython3",
   "version": "3.7.3"
  }
 },
 "nbformat": 4,
 "nbformat_minor": 2
}
